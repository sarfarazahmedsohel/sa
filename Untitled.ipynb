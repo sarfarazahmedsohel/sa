{
 "cells": [
  {
   "cell_type": "code",
   "execution_count": 1,
   "id": "c63621ce",
   "metadata": {},
   "outputs": [
    {
     "ename": "ValueError",
     "evalue": "could not broadcast input array from shape (2,) into shape (1,)",
     "output_type": "error",
     "traceback": [
      "\u001b[1;31m---------------------------------------------------------------------------\u001b[0m",
      "\u001b[1;31mValueError\u001b[0m                                Traceback (most recent call last)",
      "Cell \u001b[1;32mIn[1], line 32\u001b[0m\n\u001b[0;32m     30\u001b[0m     symbol_idx \u001b[38;5;241m=\u001b[39m \u001b[38;5;28mint\u001b[39m(\u001b[38;5;28mround\u001b[39m(phase_angle \u001b[38;5;241m/\u001b[39m (np\u001b[38;5;241m.\u001b[39mpi \u001b[38;5;241m/\u001b[39m \u001b[38;5;241m2\u001b[39m))) \u001b[38;5;241m%\u001b[39m \u001b[38;5;241m4\u001b[39m\n\u001b[0;32m     31\u001b[0m     bits \u001b[38;5;241m=\u001b[39m [(symbol_idx \u001b[38;5;241m>>\u001b[39m \u001b[38;5;241m1\u001b[39m) \u001b[38;5;241m&\u001b[39m \u001b[38;5;241m1\u001b[39m, symbol_idx \u001b[38;5;241m&\u001b[39m \u001b[38;5;241m1\u001b[39m]\n\u001b[1;32m---> 32\u001b[0m     demodulated_signal[i:i\u001b[38;5;241m+\u001b[39m\u001b[38;5;241m2\u001b[39m] \u001b[38;5;241m=\u001b[39m bits\n\u001b[0;32m     34\u001b[0m \u001b[38;5;66;03m# Plotting\u001b[39;00m\n\u001b[0;32m     35\u001b[0m plt\u001b[38;5;241m.\u001b[39mfigure(figsize\u001b[38;5;241m=\u001b[39m(\u001b[38;5;241m12\u001b[39m, \u001b[38;5;241m8\u001b[39m))\n",
      "\u001b[1;31mValueError\u001b[0m: could not broadcast input array from shape (2,) into shape (1,)"
     ]
    }
   ],
   "source": [
    "import numpy as np\n",
    "import matplotlib.pyplot as plt\n",
    "\n",
    "# Parameters\n",
    "carrier_freq = 10    # Carrier frequency (Hz)\n",
    "bit_rate = 1         # Bit rate (bits per second)\n",
    "num_bits = 9         # Number of bits\n",
    "message_signal = [1, 0, 1, 0, 1, 0, 1, 0, 1]  # Original digital signal\n",
    "\n",
    "# Generate time array\n",
    "t = np.linspace(0, num_bits / bit_rate, num_bits * 100)\n",
    "\n",
    "# QPSK Modulation\n",
    "phase_shifts = [0, np.pi/2, np.pi, 3*np.pi/2]  # Phase shifts for QPSK\n",
    "modulated_signal = np.zeros(len(t), dtype=complex)\n",
    "\n",
    "for i in range(0, len(message_signal), 2):\n",
    "    bit_pair = message_signal[i:i+2]\n",
    "    symbol_idx = int(''.join(map(str, bit_pair)), 2)\n",
    "    phase_shift = phase_shifts[symbol_idx]\n",
    "    modulated_signal[i*50:(i+2)*50] = np.exp(1j * (2 * np.pi * carrier_freq * t[i*50:(i+2)*50] + phase_shift))\n",
    "\n",
    "# QPSK Demodulation\n",
    "demodulated_signal = np.zeros(num_bits)\n",
    "for i in range(0, len(demodulated_signal), 2):\n",
    "    symbol = modulated_signal[i*50]\n",
    "    phase_angle = np.angle(symbol)\n",
    "    if phase_angle < 0:\n",
    "        phase_angle += 2 * np.pi\n",
    "    symbol_idx = int(round(phase_angle / (np.pi / 2))) % 4\n",
    "    bits = [(symbol_idx >> 1) & 1, symbol_idx & 1]\n",
    "    demodulated_signal[i:i+2] = bits\n",
    "\n",
    "# Plotting\n",
    "plt.figure(figsize=(12, 8))\n",
    "\n",
    "plt.subplot(3, 1, 1)\n",
    "plt.plot(t, np.real(modulated_signal), label='I Channel')\n",
    "plt.plot(t, np.imag(modulated_signal), label='Q Channel')\n",
    "plt.title('QPSK Modulated Signal')\n",
    "plt.xlabel('Time')\n",
    "plt.ylabel('Amplitude')\n",
    "plt.legend()\n",
    "\n",
    "plt.subplot(3, 1, 2)\n",
    "plt.stem(np.arange(num_bits), message_signal, 'r', markerfmt='ro', basefmt=\" \", linefmt='r-')\n",
    "plt.title('Original Data')\n",
    "\n",
    "plt.subplot(3, 1, 3)\n",
    "plt.stem(np.arange(num_bits), demodulated_signal, 'g', markerfmt='go', basefmt=\" \", linefmt='g-')\n",
    "plt.title('Demodulated Data')\n",
    "\n",
    "plt.tight_layout()\n",
    "plt.show()\n"
   ]
  }
 ],
 "metadata": {
  "kernelspec": {
   "display_name": "Python 3 (ipykernel)",
   "language": "python",
   "name": "python3"
  },
  "language_info": {
   "codemirror_mode": {
    "name": "ipython",
    "version": 3
   },
   "file_extension": ".py",
   "mimetype": "text/x-python",
   "name": "python",
   "nbconvert_exporter": "python",
   "pygments_lexer": "ipython3",
   "version": "3.11.4"
  }
 },
 "nbformat": 4,
 "nbformat_minor": 5
}
